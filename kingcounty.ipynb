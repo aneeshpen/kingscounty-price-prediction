{
 "cells": [
  {
   "cell_type": "code",
   "execution_count": 75,
   "metadata": {},
   "outputs": [],
   "source": [
    "import numpy as np\n",
    "import pandas as pd\n",
    "import matplotlib.pyplot as plt\n",
    "import seaborn as sns\n",
    "%matplotlib inline\n",
    "sns.set_style('whitegrid')\n",
    "\n",
    "import warnings\n",
    "warnings.filterwarnings('ignore')"
   ]
  },
  {
   "cell_type": "code",
   "execution_count": 76,
   "metadata": {},
   "outputs": [],
   "source": [
    "train_data = pd.read_csv(\"D:\\code\\python\\Mini Projects\\df_train.csv\")\n",
    "test_data = pd.read_csv(\"D:\\code\\python\\Mini Projects\\df_test.csv\")"
   ]
  },
  {
   "cell_type": "code",
   "execution_count": 77,
   "metadata": {},
   "outputs": [
    {
     "data": {
      "text/html": [
       "<div>\n",
       "<style scoped>\n",
       "    .dataframe tbody tr th:only-of-type {\n",
       "        vertical-align: middle;\n",
       "    }\n",
       "\n",
       "    .dataframe tbody tr th {\n",
       "        vertical-align: top;\n",
       "    }\n",
       "\n",
       "    .dataframe thead th {\n",
       "        text-align: right;\n",
       "    }\n",
       "</style>\n",
       "<table border=\"1\" class=\"dataframe\">\n",
       "  <thead>\n",
       "    <tr style=\"text-align: right;\">\n",
       "      <th></th>\n",
       "      <th>price</th>\n",
       "      <th>bedrooms</th>\n",
       "      <th>grade</th>\n",
       "      <th>living_in_m2</th>\n",
       "      <th>real_bathrooms</th>\n",
       "      <th>month</th>\n",
       "      <th>quartile_zone</th>\n",
       "    </tr>\n",
       "  </thead>\n",
       "  <tbody>\n",
       "    <tr>\n",
       "      <th>count</th>\n",
       "      <td>6.700000e+03</td>\n",
       "      <td>6700.000000</td>\n",
       "      <td>6700.000000</td>\n",
       "      <td>6700.000000</td>\n",
       "      <td>6700.000000</td>\n",
       "      <td>6700.00000</td>\n",
       "      <td>6700.000000</td>\n",
       "    </tr>\n",
       "    <tr>\n",
       "      <th>mean</th>\n",
       "      <td>4.754123e+05</td>\n",
       "      <td>2.240448</td>\n",
       "      <td>2.517612</td>\n",
       "      <td>181.433791</td>\n",
       "      <td>1.665075</td>\n",
       "      <td>6.57194</td>\n",
       "      <td>2.424179</td>\n",
       "    </tr>\n",
       "    <tr>\n",
       "      <th>std</th>\n",
       "      <td>2.080475e+05</td>\n",
       "      <td>0.692618</td>\n",
       "      <td>0.971218</td>\n",
       "      <td>68.315420</td>\n",
       "      <td>0.627102</td>\n",
       "      <td>3.09930</td>\n",
       "      <td>1.070753</td>\n",
       "    </tr>\n",
       "    <tr>\n",
       "      <th>min</th>\n",
       "      <td>7.500000e+04</td>\n",
       "      <td>1.000000</td>\n",
       "      <td>1.000000</td>\n",
       "      <td>49.238590</td>\n",
       "      <td>1.000000</td>\n",
       "      <td>1.00000</td>\n",
       "      <td>1.000000</td>\n",
       "    </tr>\n",
       "    <tr>\n",
       "      <th>25%</th>\n",
       "      <td>3.150000e+05</td>\n",
       "      <td>2.000000</td>\n",
       "      <td>2.000000</td>\n",
       "      <td>129.135170</td>\n",
       "      <td>1.000000</td>\n",
       "      <td>4.00000</td>\n",
       "      <td>2.000000</td>\n",
       "    </tr>\n",
       "    <tr>\n",
       "      <th>50%</th>\n",
       "      <td>4.350000e+05</td>\n",
       "      <td>2.000000</td>\n",
       "      <td>2.000000</td>\n",
       "      <td>172.799580</td>\n",
       "      <td>2.000000</td>\n",
       "      <td>6.00000</td>\n",
       "      <td>2.000000</td>\n",
       "    </tr>\n",
       "    <tr>\n",
       "      <th>75%</th>\n",
       "      <td>6.021250e+05</td>\n",
       "      <td>3.000000</td>\n",
       "      <td>3.000000</td>\n",
       "      <td>225.754290</td>\n",
       "      <td>2.000000</td>\n",
       "      <td>9.00000</td>\n",
       "      <td>3.000000</td>\n",
       "    </tr>\n",
       "    <tr>\n",
       "      <th>max</th>\n",
       "      <td>1.155000e+06</td>\n",
       "      <td>3.000000</td>\n",
       "      <td>5.000000</td>\n",
       "      <td>391.121630</td>\n",
       "      <td>3.000000</td>\n",
       "      <td>12.00000</td>\n",
       "      <td>4.000000</td>\n",
       "    </tr>\n",
       "  </tbody>\n",
       "</table>\n",
       "</div>"
      ],
      "text/plain": [
       "              price     bedrooms        grade  living_in_m2  real_bathrooms  \\\n",
       "count  6.700000e+03  6700.000000  6700.000000   6700.000000     6700.000000   \n",
       "mean   4.754123e+05     2.240448     2.517612    181.433791        1.665075   \n",
       "std    2.080475e+05     0.692618     0.971218     68.315420        0.627102   \n",
       "min    7.500000e+04     1.000000     1.000000     49.238590        1.000000   \n",
       "25%    3.150000e+05     2.000000     2.000000    129.135170        1.000000   \n",
       "50%    4.350000e+05     2.000000     2.000000    172.799580        2.000000   \n",
       "75%    6.021250e+05     3.000000     3.000000    225.754290        2.000000   \n",
       "max    1.155000e+06     3.000000     5.000000    391.121630        3.000000   \n",
       "\n",
       "            month  quartile_zone  \n",
       "count  6700.00000    6700.000000  \n",
       "mean      6.57194       2.424179  \n",
       "std       3.09930       1.070753  \n",
       "min       1.00000       1.000000  \n",
       "25%       4.00000       2.000000  \n",
       "50%       6.00000       2.000000  \n",
       "75%       9.00000       3.000000  \n",
       "max      12.00000       4.000000  "
      ]
     },
     "execution_count": 77,
     "metadata": {},
     "output_type": "execute_result"
    }
   ],
   "source": [
    "test_data.describe()"
   ]
  },
  {
   "cell_type": "code",
   "execution_count": 78,
   "metadata": {},
   "outputs": [],
   "source": [
    "# Convert date strings to datetime objects\n",
    "train_data['date'] = pd.to_datetime(train_data['date'])\n",
    "test_data['date'] = pd.to_datetime(test_data['date'])"
   ]
  },
  {
   "cell_type": "code",
   "execution_count": 79,
   "metadata": {},
   "outputs": [
    {
     "data": {
      "text/plain": [
       "date                 0\n",
       "price                0\n",
       "bedrooms             0\n",
       "grade                0\n",
       "has_basement         0\n",
       "living_in_m2         0\n",
       "renovated            0\n",
       "nice_view            0\n",
       "perfect_condition    0\n",
       "real_bathrooms       0\n",
       "has_lavatory         0\n",
       "single_floor         0\n",
       "month                0\n",
       "quartile_zone        0\n",
       "dtype: int64"
      ]
     },
     "execution_count": 79,
     "metadata": {},
     "output_type": "execute_result"
    }
   ],
   "source": [
    "# Check for missing values\n",
    "train_data.isnull().sum()\n"
   ]
  },
  {
   "cell_type": "code",
   "execution_count": 80,
   "metadata": {},
   "outputs": [
    {
     "data": {
      "text/plain": [
       "date                 0\n",
       "price                0\n",
       "bedrooms             0\n",
       "grade                0\n",
       "has_basement         0\n",
       "living_in_m2         0\n",
       "renovated            0\n",
       "nice_view            0\n",
       "perfect_condition    0\n",
       "real_bathrooms       0\n",
       "has_lavatory         0\n",
       "single_floor         0\n",
       "month                0\n",
       "quartile_zone        0\n",
       "dtype: int64"
      ]
     },
     "execution_count": 80,
     "metadata": {},
     "output_type": "execute_result"
    }
   ],
   "source": [
    "test_data.isnull().sum()"
   ]
  },
  {
   "cell_type": "code",
   "execution_count": 81,
   "metadata": {},
   "outputs": [
    {
     "data": {
      "text/plain": [
       "2"
      ]
     },
     "execution_count": 81,
     "metadata": {},
     "output_type": "execute_result"
    }
   ],
   "source": [
    "train_data.duplicated().sum()"
   ]
  },
  {
   "cell_type": "code",
   "execution_count": 82,
   "metadata": {},
   "outputs": [
    {
     "data": {
      "text/plain": [
       "1"
      ]
     },
     "execution_count": 82,
     "metadata": {},
     "output_type": "execute_result"
    }
   ],
   "source": [
    "test_data.duplicated().sum()"
   ]
  },
  {
   "cell_type": "code",
   "execution_count": 83,
   "metadata": {},
   "outputs": [
    {
     "data": {
      "image/png": "[encoded data removed]",
      "text/plain": [
       "<Figure size 700x600 with 1 Axes>"
      ]
     },
     "metadata": {},
     "output_type": "display_data"
    }
   ],
   "source": [
    "# Plot the distribution of house prices\n",
    "plt.figure(figsize=(7, 6))\n",
    "sns.histplot(train_data['price'], bins=30, kde=True)\n",
    "plt.title('Distribution of House Prices')\n",
    "plt.xlabel('Price')\n",
    "plt.ylabel('Frequency')\n",
    "plt.show()"
   ]
  },
  {
   "cell_type": "code",
   "execution_count": 84,
   "metadata": {},
   "outputs": [
    {
     "data": {
      "text/html": [
       "<div>\n",
       "<style scoped>\n",
       "    .dataframe tbody tr th:only-of-type {\n",
       "        vertical-align: middle;\n",
       "    }\n",
       "\n",
       "    .dataframe tbody tr th {\n",
       "        vertical-align: top;\n",
       "    }\n",
       "\n",
       "    .dataframe thead th {\n",
       "        text-align: right;\n",
       "    }\n",
       "</style>\n",
       "<table border=\"1\" class=\"dataframe\">\n",
       "  <thead>\n",
       "    <tr style=\"text-align: right;\">\n",
       "      <th></th>\n",
       "      <th>date</th>\n",
       "      <th>price</th>\n",
       "      <th>bedrooms</th>\n",
       "      <th>grade</th>\n",
       "      <th>has_basement</th>\n",
       "      <th>living_in_m2</th>\n",
       "      <th>renovated</th>\n",
       "      <th>nice_view</th>\n",
       "      <th>perfect_condition</th>\n",
       "      <th>real_bathrooms</th>\n",
       "      <th>has_lavatory</th>\n",
       "      <th>single_floor</th>\n",
       "      <th>month</th>\n",
       "      <th>quartile_zone</th>\n",
       "    </tr>\n",
       "  </thead>\n",
       "  <tbody>\n",
       "    <tr>\n",
       "      <th>0</th>\n",
       "      <td>2014-05-15</td>\n",
       "      <td>312000.0</td>\n",
       "      <td>2</td>\n",
       "      <td>2</td>\n",
       "      <td>True</td>\n",
       "      <td>138.42547</td>\n",
       "      <td>False</td>\n",
       "      <td>False</td>\n",
       "      <td>False</td>\n",
       "      <td>2</td>\n",
       "      <td>True</td>\n",
       "      <td>False</td>\n",
       "      <td>5</td>\n",
       "      <td>1</td>\n",
       "    </tr>\n",
       "    <tr>\n",
       "      <th>1</th>\n",
       "      <td>2014-11-14</td>\n",
       "      <td>310000.0</td>\n",
       "      <td>2</td>\n",
       "      <td>2</td>\n",
       "      <td>False</td>\n",
       "      <td>105.90942</td>\n",
       "      <td>False</td>\n",
       "      <td>False</td>\n",
       "      <td>False</td>\n",
       "      <td>1</td>\n",
       "      <td>True</td>\n",
       "      <td>False</td>\n",
       "      <td>11</td>\n",
       "      <td>3</td>\n",
       "    </tr>\n",
       "    <tr>\n",
       "      <th>2</th>\n",
       "      <td>2014-12-24</td>\n",
       "      <td>320000.0</td>\n",
       "      <td>2</td>\n",
       "      <td>2</td>\n",
       "      <td>False</td>\n",
       "      <td>117.98681</td>\n",
       "      <td>False</td>\n",
       "      <td>True</td>\n",
       "      <td>False</td>\n",
       "      <td>1</td>\n",
       "      <td>False</td>\n",
       "      <td>True</td>\n",
       "      <td>12</td>\n",
       "      <td>2</td>\n",
       "    </tr>\n",
       "    <tr>\n",
       "      <th>3</th>\n",
       "      <td>2015-02-22</td>\n",
       "      <td>264500.0</td>\n",
       "      <td>2</td>\n",
       "      <td>3</td>\n",
       "      <td>False</td>\n",
       "      <td>151.43189</td>\n",
       "      <td>False</td>\n",
       "      <td>False</td>\n",
       "      <td>False</td>\n",
       "      <td>2</td>\n",
       "      <td>True</td>\n",
       "      <td>True</td>\n",
       "      <td>2</td>\n",
       "      <td>1</td>\n",
       "    </tr>\n",
       "    <tr>\n",
       "      <th>4</th>\n",
       "      <td>2015-01-06</td>\n",
       "      <td>700000.0</td>\n",
       "      <td>3</td>\n",
       "      <td>2</td>\n",
       "      <td>True</td>\n",
       "      <td>341.88304</td>\n",
       "      <td>False</td>\n",
       "      <td>False</td>\n",
       "      <td>False</td>\n",
       "      <td>3</td>\n",
       "      <td>False</td>\n",
       "      <td>False</td>\n",
       "      <td>1</td>\n",
       "      <td>4</td>\n",
       "    </tr>\n",
       "  </tbody>\n",
       "</table>\n",
       "</div>"
      ],
      "text/plain": [
       "        date     price  bedrooms  grade  has_basement  living_in_m2  \\\n",
       "0 2014-05-15  312000.0         2      2          True     138.42547   \n",
       "1 2014-11-14  310000.0         2      2         False     105.90942   \n",
       "2 2014-12-24  320000.0         2      2         False     117.98681   \n",
       "3 2015-02-22  264500.0         2      3         False     151.43189   \n",
       "4 2015-01-06  700000.0         3      2          True     341.88304   \n",
       "\n",
       "   renovated  nice_view  perfect_condition  real_bathrooms  has_lavatory  \\\n",
       "0      False      False              False               2          True   \n",
       "1      False      False              False               1          True   \n",
       "2      False       True              False               1         False   \n",
       "3      False      False              False               2          True   \n",
       "4      False      False              False               3         False   \n",
       "\n",
       "   single_floor  month  quartile_zone  \n",
       "0         False      5              1  \n",
       "1         False     11              3  \n",
       "2          True     12              2  \n",
       "3          True      2              1  \n",
       "4         False      1              4  "
      ]
     },
     "execution_count": 84,
     "metadata": {},
     "output_type": "execute_result"
    }
   ],
   "source": [
    "df = pd.concat([train_data,test_data])\n",
    "df.head()"
   ]
  },
  {
   "cell_type": "code",
   "execution_count": 85,
   "metadata": {},
   "outputs": [],
   "source": [
    "# Make numerical columns and categorical columns variables\n",
    "\n",
    "numerical_cols = df.select_dtypes(include= ['int64', 'float64']).columns \n",
    "categorical_cols = df.select_dtypes(exclude= ['int64', 'float64']).drop(columns=['date']).columns"
   ]
  },
  {
   "cell_type": "code",
   "execution_count": 86,
   "metadata": {},
   "outputs": [
    {
     "data": {
      "text/plain": [
       "Index(['has_basement', 'renovated', 'nice_view', 'perfect_condition',\n",
       "       'has_lavatory', 'single_floor'],\n",
       "      dtype='object')"
      ]
     },
     "execution_count": 86,
     "metadata": {},
     "output_type": "execute_result"
    }
   ],
   "source": [
    "categorical_cols"
   ]
  },
  {
   "cell_type": "code",
   "execution_count": 87,
   "metadata": {},
   "outputs": [
    {
     "data": {
      "text/plain": [
       "Index(['price', 'bedrooms', 'grade', 'living_in_m2', 'real_bathrooms', 'month',\n",
       "       'quartile_zone'],\n",
       "      dtype='object')"
      ]
     },
     "execution_count": 87,
     "metadata": {},
     "output_type": "execute_result"
    }
   ],
   "source": [
    "numerical_cols"
   ]
  },
  {
   "cell_type": "code",
   "execution_count": 88,
   "metadata": {},
   "outputs": [
    {
     "data": {
      "text/html": [
       "<div>\n",
       "<style scoped>\n",
       "    .dataframe tbody tr th:only-of-type {\n",
       "        vertical-align: middle;\n",
       "    }\n",
       "\n",
       "    .dataframe tbody tr th {\n",
       "        vertical-align: top;\n",
       "    }\n",
       "\n",
       "    .dataframe thead th {\n",
       "        text-align: right;\n",
       "    }\n",
       "</style>\n",
       "<table border=\"1\" class=\"dataframe\">\n",
       "  <thead>\n",
       "    <tr style=\"text-align: right;\">\n",
       "      <th></th>\n",
       "      <th>bedrooms</th>\n",
       "      <th>price</th>\n",
       "    </tr>\n",
       "  </thead>\n",
       "  <tbody>\n",
       "    <tr>\n",
       "      <th>0</th>\n",
       "      <td>1</td>\n",
       "      <td>387910.299590</td>\n",
       "    </tr>\n",
       "    <tr>\n",
       "      <th>1</th>\n",
       "      <td>2</td>\n",
       "      <td>440593.126589</td>\n",
       "    </tr>\n",
       "    <tr>\n",
       "      <th>2</th>\n",
       "      <td>3</td>\n",
       "      <td>551023.829585</td>\n",
       "    </tr>\n",
       "  </tbody>\n",
       "</table>\n",
       "</div>"
      ],
      "text/plain": [
       "   bedrooms          price\n",
       "0         1  387910.299590\n",
       "1         2  440593.126589\n",
       "2         3  551023.829585"
      ]
     },
     "execution_count": 88,
     "metadata": {},
     "output_type": "execute_result"
    }
   ],
   "source": [
    "# Average Price of the house for number of bedrooms \n",
    "\n",
    "bedrooms = df.groupby(['bedrooms'])['price'].mean().reset_index()\n",
    "bedrooms"
   ]
  },
  {
   "cell_type": "code",
   "execution_count": 89,
   "metadata": {},
   "outputs": [
    {
     "data": {
      "text/html": [
       "<div>\n",
       "<style scoped>\n",
       "    .dataframe tbody tr th:only-of-type {\n",
       "        vertical-align: middle;\n",
       "    }\n",
       "\n",
       "    .dataframe tbody tr th {\n",
       "        vertical-align: top;\n",
       "    }\n",
       "\n",
       "    .dataframe thead th {\n",
       "        text-align: right;\n",
       "    }\n",
       "</style>\n",
       "<table border=\"1\" class=\"dataframe\">\n",
       "  <thead>\n",
       "    <tr style=\"text-align: right;\">\n",
       "      <th></th>\n",
       "      <th>grade</th>\n",
       "      <th>price</th>\n",
       "    </tr>\n",
       "  </thead>\n",
       "  <tbody>\n",
       "    <tr>\n",
       "      <th>0</th>\n",
       "      <td>1</td>\n",
       "      <td>295404.729895</td>\n",
       "    </tr>\n",
       "    <tr>\n",
       "      <th>1</th>\n",
       "      <td>2</td>\n",
       "      <td>401385.609500</td>\n",
       "    </tr>\n",
       "    <tr>\n",
       "      <th>2</th>\n",
       "      <td>3</td>\n",
       "      <td>526259.726018</td>\n",
       "    </tr>\n",
       "    <tr>\n",
       "      <th>3</th>\n",
       "      <td>4</td>\n",
       "      <td>688222.800786</td>\n",
       "    </tr>\n",
       "    <tr>\n",
       "      <th>4</th>\n",
       "      <td>5</td>\n",
       "      <td>824374.401961</td>\n",
       "    </tr>\n",
       "  </tbody>\n",
       "</table>\n",
       "</div>"
      ],
      "text/plain": [
       "   grade          price\n",
       "0      1  295404.729895\n",
       "1      2  401385.609500\n",
       "2      3  526259.726018\n",
       "3      4  688222.800786\n",
       "4      5  824374.401961"
      ]
     },
     "execution_count": 89,
     "metadata": {},
     "output_type": "execute_result"
    }
   ],
   "source": [
    "# Average Price of the house for grade\n",
    "grade = df.groupby(['grade'])['price'].mean().reset_index()\n",
    "grade"
   ]
  },
  {
   "cell_type": "code",
   "execution_count": 90,
   "metadata": {},
   "outputs": [
    {
     "data": {
      "text/html": [
       "<div>\n",
       "<style scoped>\n",
       "    .dataframe tbody tr th:only-of-type {\n",
       "        vertical-align: middle;\n",
       "    }\n",
       "\n",
       "    .dataframe tbody tr th {\n",
       "        vertical-align: top;\n",
       "    }\n",
       "\n",
       "    .dataframe thead th {\n",
       "        text-align: right;\n",
       "    }\n",
       "</style>\n",
       "<table border=\"1\" class=\"dataframe\">\n",
       "  <thead>\n",
       "    <tr style=\"text-align: right;\">\n",
       "      <th></th>\n",
       "      <th>nice_view</th>\n",
       "      <th>price</th>\n",
       "    </tr>\n",
       "  </thead>\n",
       "  <tbody>\n",
       "    <tr>\n",
       "      <th>0</th>\n",
       "      <td>False</td>\n",
       "      <td>461033.539811</td>\n",
       "    </tr>\n",
       "    <tr>\n",
       "      <th>1</th>\n",
       "      <td>True</td>\n",
       "      <td>648027.743557</td>\n",
       "    </tr>\n",
       "  </tbody>\n",
       "</table>\n",
       "</div>"
      ],
      "text/plain": [
       "   nice_view          price\n",
       "0      False  461033.539811\n",
       "1       True  648027.743557"
      ]
     },
     "execution_count": 90,
     "metadata": {},
     "output_type": "execute_result"
    }
   ],
   "source": [
    "# Average Price of the house for a nice view\n",
    "view = df.groupby(['nice_view'])['price'].mean().reset_index()\n",
    "view"
   ]
  },
  {
   "cell_type": "code",
   "execution_count": 91,
   "metadata": {},
   "outputs": [],
   "source": [
    "train_data['total_bathrooms'] = train_data['real_bathrooms'] + train_data['has_lavatory'].astype(int)\n",
    "test_data['total_bathrooms'] = test_data['real_bathrooms'] + test_data['has_lavatory'].astype(int)"
   ]
  },
  {
   "cell_type": "code",
   "execution_count": 92,
   "metadata": {},
   "outputs": [],
   "source": [
    "import sklearn\n",
    "import xgboost\n",
    "from sklearn.model_selection import train_test_split\n",
    "from sklearn.preprocessing import LabelEncoder, StandardScaler\n",
    "\n",
    "from sklearn.ensemble import RandomForestRegressor\n",
    "from sklearn.linear_model import LinearRegression\n",
    "from xgboost import XGBRegressor\n",
    "\n",
    "from sklearn.metrics import mean_absolute_error, mean_squared_error, r2_score\n",
    "from sklearn.model_selection import GridSearchCV"
   ]
  },
  {
   "cell_type": "code",
   "execution_count": 93,
   "metadata": {},
   "outputs": [],
   "source": [
    "train_data = train_data.drop(columns='date', axis=1)\n",
    "test_data = test_data.drop(columns='date', axis=1)"
   ]
  },
  {
   "cell_type": "code",
   "execution_count": 94,
   "metadata": {},
   "outputs": [],
   "source": [
    "labelEncoder = LabelEncoder()\n",
    "\n",
    "for cat_cols in categorical_cols : \n",
    "    train_data[cat_cols] = labelEncoder.fit_transform(train_data[cat_cols])\n",
    "    test_data[cat_cols] = labelEncoder.fit_transform(test_data[cat_cols])"
   ]
  },
  {
   "cell_type": "code",
   "execution_count": 95,
   "metadata": {},
   "outputs": [],
   "source": [
    "X_train = train_data.drop(columns=['price'])\n",
    "y_train = train_data['price']\n",
    "\n",
    "X_train,X_val,y_train,y_val = train_test_split(X_train,y_train,test_size=0.1)"
   ]
  },
  {
   "cell_type": "code",
   "execution_count": 96,
   "metadata": {},
   "outputs": [],
   "source": [
    "X_test = test_data.drop(columns=['price'])\n",
    "y_test = test_data['price']"
   ]
  },
  {
   "cell_type": "code",
   "execution_count": 97,
   "metadata": {},
   "outputs": [],
   "source": [
    "lr = LinearRegression()\n",
    "xgb = XGBRegressor()\n",
    "rf = RandomForestRegressor()\n",
    "\n",
    "models = [lr,xgb,rf]\n",
    "names = [\"Random Forest\", \"Linear Regression\", \"XGBoost\"]\n"
   ]
  },
  {
   "cell_type": "code",
   "execution_count": 99,
   "metadata": {},
   "outputs": [
    {
     "name": "stdout",
     "output_type": "stream",
     "text": [
      "Random Forest validation prediction\n",
      "MSE:  10749454222.997496\n",
      "RMSE:  103679.57476281187\n",
      "MAE:  77215.63543648698\n",
      "r2:  0.6850477856297248\n",
      "--------------------------------------------------\n",
      "Linear Regression validation prediction\n",
      "MSE:  11007664580.194672\n",
      "RMSE:  104917.41790663108\n",
      "MAE:  75854.27445926708\n",
      "r2:  0.6970552264977049\n",
      "--------------------------------------------------\n",
      "XGBoost validation prediction\n",
      "MSE:  11543278953.938658\n",
      "RMSE:  107439.65261456618\n",
      "MAE:  79073.129638297\n",
      "r2:  0.6814783063350256\n",
      "--------------------------------------------------\n"
     ]
    }
   ],
   "source": [
    "index = 0\n",
    "mse_ = []\n",
    "r2_ = []\n",
    "mae_ = []\n",
    "rmse_ = []\n",
    "\n",
    "for name, model in enumerate(models):\n",
    "    model.fit(X_train, y_train)\n",
    "    pred = model.predict(X_val)\n",
    "    print(f'{names[index]} validation prediction')\n",
    "    \n",
    "    mse = mean_squared_error(pred,y_val)\n",
    "    rmse = np.sqrt(mse)\n",
    "    mae = mean_absolute_error(pred, y_val)\n",
    "    r2 = r2_score(pred, y_val)\n",
    "    \n",
    "    mse_.append(mse)\n",
    "    mae_.append(mae)\n",
    "    r2_.append(r2)\n",
    "    rmse_.append(rmse)\n",
    "    \n",
    "    print(\"MSE: \", mse)\n",
    "    print(\"RMSE: \", rmse)\n",
    "    print(\"MAE: \", mae)\n",
    "    print(\"r2: \", r2)\n",
    "    print(\"-\"*50)\n",
    "    \n",
    "    index += 1"
   ]
  },
  {
   "cell_type": "code",
   "execution_count": 100,
   "metadata": {},
   "outputs": [
    {
     "name": "stdout",
     "output_type": "stream",
     "text": [
      "Random Forest test data prediction\n",
      "MSE:  11152707877.60266\n",
      "RMSE:  105606.38180338658\n",
      "MAE:  78645.25741964683\n",
      "r2:  0.6535897045481609\n",
      "--------------------------------------------------\n",
      "Linear Regression test data prediction\n",
      "MSE:  10858545271.697718\n",
      "RMSE:  104204.34382355525\n",
      "MAE:  75286.49567980411\n",
      "r2:  0.6839774139201822\n",
      "--------------------------------------------------\n",
      "XGBoost test data prediction\n",
      "MSE:  11720628845.062426\n",
      "RMSE:  108261.85313887078\n",
      "MAE:  78173.75769219799\n",
      "r2:  0.6606382361023004\n",
      "--------------------------------------------------\n"
     ]
    }
   ],
   "source": [
    "index = 0\n",
    "mse_ = []\n",
    "r2_ = []\n",
    "mae_ = []\n",
    "rmse_ = []\n",
    "\n",
    "for name, model in enumerate(models):\n",
    "    model.fit(X_train, y_train)\n",
    "    pred = model.predict(X_test)\n",
    "    print(f'{names[index]} test data prediction')\n",
    "    \n",
    "    mse = mean_squared_error(pred,y_test)\n",
    "    rmse = np.sqrt(mse)\n",
    "    mae = mean_absolute_error(pred, y_test)\n",
    "    r2 = r2_score(pred, y_test)\n",
    "    \n",
    "    mse_.append(mse)\n",
    "    mae_.append(mae)\n",
    "    r2_.append(r2)\n",
    "    rmse_.append(rmse)\n",
    "    \n",
    "    print(\"MSE: \", mse)\n",
    "    print(\"RMSE: \", rmse)\n",
    "    print(\"MAE: \", mae)\n",
    "    print(\"r2: \", r2)\n",
    "    print(\"-\"*50)\n",
    "    \n",
    "    index += 1"
   ]
  }
 ],
 "metadata": {
  "kernelspec": {
   "display_name": "Python 3",
   "language": "python",
   "name": "python3"
  },
  "language_info": {
   "codemirror_mode": {
    "name": "ipython",
    "version": 3
   },
   "file_extension": ".py",
   "mimetype": "text/x-python",
   "name": "python",
   "nbconvert_exporter": "python",
   "pygments_lexer": "ipython3",
   "version": "3.12.1"
  }
 },
 "nbformat": 4,
 "nbformat_minor": 2
}
